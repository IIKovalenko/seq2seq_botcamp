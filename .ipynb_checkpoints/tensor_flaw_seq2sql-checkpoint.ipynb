{
 "cells": [
  {
   "cell_type": "markdown",
   "metadata": {},
   "source": [
    "## Seq2Sql\n",
    "\n",
    "Задача перевода запросов на натуральном языке в машинный код аналогична задаче перевода \"последовательность-в-последовательность\" \n",
    "\n",
    "<img src=\"files/lstm.png\">\n"
   ]
  },
  {
   "cell_type": "markdown",
   "metadata": {},
   "source": [
    "## Dataset: GEOQUERY\n",
    "\n",
    "Это база данных о географических объектах, плотности населения, границах штатов и т.д. Соединенных Штатов Америки\n",
    "GEOQUERY: lambda calculus\n",
    "* “Plus 1” function: ƛx.x+1\n",
    "* “Plus 1” function, where argument == 3: (ƛx.x+1)3 => 3+1 =>4\n",
    "*  all capital cities λx.capital(x)\n",
    "*  capital(p)  λp.λx.(capital(x), p(x))\n",
    "\n",
    "Примеры запросов в табличке:\n",
    "<img src=\"files/table3.png\">\n",
    "\n",
    "больше о языке запросов:\n",
    "http://www.cs.utexas.edu/~ml/wasp/geo-funql.html\n"
   ]
  },
  {
   "cell_type": "markdown",
   "metadata": {},
   "source": [
    "### Словари\n"
   ]
  },
  {
   "cell_type": "markdown",
   "metadata": {},
   "source": [
    "* Обычно: модель работает со словарями слов, которые возможно встретить во входных и выходных последовательностях.\n",
    "* Cловарь каждому слову присваивает номер, по номеру слова словарь дает слово. Т.е класс \"словарь\" содержит стурктуры word2index, index2word. Например, в util_tf.py класс Vocab\n",
    "* на вход модели дается не набор слов, в набор номеров слов в словаре. \n",
    "\n",
    "## BPE!\n",
    "**Byte Pair Encoding.**\n",
    "\n",
    "Токенезирует на уровне символов (т.е. побуквенно), заменяет часто встречающиеся символы одним токеном. Затем вместо словаря слов появляется словарь токенов."
   ]
  },
  {
   "cell_type": "code",
   "execution_count": 95,
   "metadata": {},
   "outputs": [],
   "source": [
    "import numpy as np\n",
    "import matplotlib.pyplot as plt\n",
    "%matplotlib inline\n",
    "\n",
    "def tokenize(x):\n",
    "    return ' '.join(tokenizer.tokenize(x.lower()))\n",
    "\n",
    "def preprocess(dataset_type, datadir, source_voc_type, dist_voc_type): #создает bpe-словарики из слов в словарях sourcevoc(это все возможные слова, \n",
    "    # которые могут встретиться в вопросах на натуральном языке по этой базе данных), targetvoc(символы математического языка запроса)\n",
    "    with open(\"{}.{}\".format(dataset_type,source_voc_type), 'w') as f_src,  open(\"{}.{}\".format(dataset_type, dist_voc_type), 'w') as f_dst:\n",
    "        for line in open('{}/{}.txt'.format(datadir, dataset_type), encoding='utf-8'):\n",
    "            src_line, dst_line = line.strip().split('\\t')\n",
    "\n",
    "            f_src.write(tokenize(src_line) + '\\n')\n",
    "            f_dst.write(tokenize(dst_line) + '\\n')\n",
    "        \n",
    "    bpe = {}\n",
    "    for v_type in [source_voc_type, dist_voc_type]:\n",
    "        learn_bpe(open('./{}.'.format(dataset_type) + v_type), open('bpe_rules.' + v_type, 'w'), num_symbols=8000)\n",
    "        bpe[v_type] = BPE(open('./bpe_rules.' + v_type))\n",
    "        with open('{}.bpe.'.format(dataset_type) + v_type, 'w') as f_out:\n",
    "            for line in open('{}.'.format(dataset_type) + v_type):\n",
    "                f_out.write(bpe[v_type].process_line(line.strip()) + '\\n')"
   ]
  },
  {
   "cell_type": "code",
   "execution_count": 96,
   "metadata": {},
   "outputs": [
    {
     "name": "stderr",
     "output_type": "stream",
     "text": [
      "no pair has frequency >= 2. Stopping\n",
      "no pair has frequency >= 2. Stopping\n"
     ]
    }
   ],
   "source": [
    "preprocess('train', 'data', 'qw', 'qu')"
   ]
  },
  {
   "cell_type": "code",
   "execution_count": 97,
   "metadata": {},
   "outputs": [
    {
     "name": "stderr",
     "output_type": "stream",
     "text": [
      "no pair has frequency >= 2. Stopping\n",
      "no pair has frequency >= 2. Stopping\n"
     ]
    }
   ],
   "source": [
    "preprocess('test', 'data', 'qw', 'qu')"
   ]
  },
  {
   "cell_type": "markdown",
   "metadata": {},
   "source": [
    "**определим train и test и посмотрим на данные**"
   ]
  },
  {
   "cell_type": "code",
   "execution_count": 98,
   "metadata": {},
   "outputs": [
    {
     "name": "stdout",
     "output_type": "stream",
     "text": [
      "inp: where is c0\n",
      "out: ( lambda $ 0 e ( loc : t c0 $ 0 ) )\n",
      "\n",
      "inp: where is m0\n",
      "out: ( lambda $ 0 e ( loc : t m0 $ 0 ) )\n",
      "\n",
      "inp: where is c0\n",
      "out: ( lambda $ 0 e ( loc : t c0 $ 0 ) )\n",
      "\n"
     ]
    }
   ],
   "source": [
    "train_inp = np.array(open('./train.bpe.qw').read().split('\\n'))\n",
    "train_out = np.array(open('./train.bpe.qu').read().split('\\n'))\n",
    "test_inp = np.array(open('./test.bpe.qw').read().split('\\n'))\n",
    "test_out = np.array(open('./test.bpe.qu').read().split('\\n'))\n",
    "\n",
    "for i in range(3):\n",
    "    print('inp:', train_inp[i])\n",
    "    print('out:', train_out[i], end='\\n\\n')"
   ]
  },
  {
   "cell_type": "code",
   "execution_count": 99,
   "metadata": {
    "collapsed": true
   },
   "outputs": [],
   "source": [
    "from util_tf import Vocab\n",
    "inp_voc = Vocab.from_lines(train_inp)\n",
    "out_voc = Vocab.from_lines(train_out)"
   ]
  },
  {
   "cell_type": "markdown",
   "metadata": {},
   "source": [
    "**to_matrix, to_line**\n",
    "* у класса vocab есть функция to_matrix, которая из батча вопросов на естественном языке генерит батч чисел, где число - индекс соответсвующего слова в словаре.\n",
    "\n",
    "* И функция to_lines, которая батч чисел переводит обратно\n",
    "\n",
    "* Важно! модель предсказывает батч чисел"
   ]
  },
  {
   "cell_type": "code",
   "execution_count": 100,
   "metadata": {},
   "outputs": [
    {
     "name": "stdout",
     "output_type": "stream",
     "text": [
      "lines\n",
      "['where is s0', 'peopl in c0', 'where is c0', 'where is c0', 'popul of c0']\n",
      "\n",
      "words to ids (0 = bos, 1 = eos):\n",
      "[[  0 137  59 109   1]\n",
      " [  0 102  58  19   1]\n",
      " [  0 137  59  19   1]\n",
      " [  0 137  59  19   1]\n",
      " [  0 105  95  19   1]]\n",
      "\n",
      "back to words\n",
      "['where is s0', 'peopl in c0', 'where is c0', 'where is c0', 'popul of c0']\n"
     ]
    }
   ],
   "source": [
    "batch_lines = sorted(train_inp, key=len)[5:10]\n",
    "batch_ids = inp_voc.to_matrix(batch_lines)\n",
    "batch_lines_restored = inp_voc.to_lines(batch_ids)\n",
    "\n",
    "print(\"lines\")\n",
    "print(batch_lines)\n",
    "print(\"\\nwords to ids (0 = bos, 1 = eos):\")\n",
    "print(batch_ids)\n",
    "print(\"\\nback to words\")\n",
    "print(batch_lines_restored)"
   ]
  },
  {
   "cell_type": "markdown",
   "metadata": {},
   "source": [
    "### Модель\n"
   ]
  },
  {
   "cell_type": "code",
   "execution_count": 101,
   "metadata": {},
   "outputs": [],
   "source": [
    "import tensorflow as tf\n",
    "import keras.layers as L\n",
    "from util_tf import infer_length, infer_mask"
   ]
  },
  {
   "cell_type": "code",
   "execution_count": 102,
   "metadata": {
    "collapsed": true
   },
   "outputs": [],
   "source": [
    "class BasicModel:\n",
    "    def __init__(self, name, inp_voc, out_voc, emb_size=64, hid_size=128):\n",
    "        \n",
    "        self.name, self.inp_voc, self.out_voc = name, inp_voc, out_voc\n",
    "\n",
    "        with tf.variable_scope(name):\n",
    "            self.emb_inp = L.Embedding(len(inp_voc), emb_size)\n",
    "            self.emb_out = L.Embedding(len(out_voc), emb_size)\n",
    "            self.enc0 = tf.nn.rnn_cell.GRUCell(hid_size)\n",
    "\n",
    "            self.dec_start = L.Dense(hid_size)\n",
    "            self.dec0 = tf.nn.rnn_cell.GRUCell(hid_size)\n",
    "            self.logits = L.Dense(len(out_voc))\n",
    "\n",
    "            # prepare to translate_lines\n",
    "            self.inp = tf.placeholder('int32', [None, None])\n",
    "            self.initial_state = self.prev_state = self.encode(self.inp)\n",
    "            self.prev_tokens = tf.placeholder('int32', [None])\n",
    "            self.next_state, self.next_logits = self.decode(self.prev_state, self.prev_tokens)\n",
    "        \n",
    "        self.weights = tf.get_collection(tf.GraphKeys.TRAINABLE_VARIABLES, scope=name)\n",
    "\n",
    "    def encode(self, inp, **flags):\n",
    "        \"\"\"\n",
    "        Получает на вход батч, прогоняет его через emb_layer (теперь каждому числу-слову соответсвует вектор)\n",
    "        возвращает начальное состояние для rnn-ки декодера\n",
    "        \"\"\"\n",
    "        inp_lengths = infer_length(inp, self.inp_voc.eos_ix)\n",
    "        inp_emb = self.emb_inp(inp)\n",
    "        with tf.variable_scope('enc0'):\n",
    "            _, enc_last = tf.nn.dynamic_rnn(\n",
    "                              self.enc0, inp_emb,\n",
    "                              sequence_length=inp_lengths,\n",
    "                              dtype = inp_emb.dtype)\n",
    "        dec_start = self.dec_start(enc_last)\n",
    "        return [dec_start]\n",
    "\n",
    "    def decode(self, prev_state, prev_tokens, **flags):\n",
    "        \"\"\"\n",
    "        берет предыдущее состояние, возвращает вероятности для всех символов выходного словаря и состояние для следующей ячейки\n",
    "        \"\"\"\n",
    "        [prev_dec] = prev_state\n",
    "        prev_emb = self.emb_out(prev_tokens[:,None])[:,0]\n",
    "        with tf.variable_scope('dec0'):\n",
    "            new_dec_out, new_dec_state = self.dec0(prev_emb, prev_dec)\n",
    "        output_logits = self.logits(new_dec_out)\n",
    "        return [new_dec_state], output_logits\n",
    "\n",
    "    def translate_lines(self, inp_lines, max_len=100):\n",
    "        state = sess.run(self.initial_state, {self.inp: inp_voc.to_matrix(inp_lines)})\n",
    "        outputs = [[self.out_voc.bos_ix] for _ in range(len(inp_lines))]\n",
    "        all_states = [state]\n",
    "        finished = [False] * len(inp_lines)\n",
    "\n",
    "        for t in range(max_len):\n",
    "            state, logits = sess.run([self.next_state, self.next_logits], {**dict(zip(self.prev_state, state)),\n",
    "                                           self.prev_tokens: [out_i[-1] for out_i in outputs]})\n",
    "            next_tokens = np.argmax(logits, axis=-1)\n",
    "            all_states.append(state)\n",
    "            for i in range(len(next_tokens)):\n",
    "                outputs[i].append(next_tokens[i])\n",
    "                finished[i] |= next_tokens[i] == self.out_voc.eos_ix\n",
    "        return out_voc.to_lines(outputs), all_states"
   ]
  },
  {
   "cell_type": "code",
   "execution_count": 103,
   "metadata": {
    "collapsed": true
   },
   "outputs": [],
   "source": [
    "tf.reset_default_graph()\n",
    "sess = tf.InteractiveSession()\n",
    "\n",
    "model = BasicModel('model', inp_voc, out_voc)\n",
    "sess.run(tf.global_variables_initializer())"
   ]
  },
  {
   "cell_type": "markdown",
   "metadata": {},
   "source": [
    "### Loss \n",
    "\n",
    "Our training objetive is almost the same as it was for neural language models:\n",
    "$$ L = {\\frac1{|D|}} \\sum_{X, Y \\in D} \\sum_{y_t \\in Y} - \\log p(y_t \\mid y_1, \\dots, y_{t-1}, X, \\theta) $$\n",
    "\n",
    "where $|D|$ is the __total length of all sequences__, including BOS and first EOS, but excluding PAD."
   ]
  },
  {
   "cell_type": "code",
   "execution_count": 104,
   "metadata": {
    "collapsed": true
   },
   "outputs": [],
   "source": [
    "def compute_logits(model, inp, out, **flags):\n",
    "   \n",
    "    batch_size = tf.shape(inp)[0]\n",
    "    \n",
    "    first_state = model.encode(inp)\n",
    "    \n",
    "    first_logits = tf.log(tf.one_hot(tf.fill([batch_size], model.out_voc.bos_ix),\n",
    "                                     len(model.out_voc)) + 1e-30)\n",
    "    \n",
    "    def step(prev_tupl, y_prev):\n",
    "        prev_state, logits = prev_tupl\n",
    "        next_state, logits = model.decode(prev_state, y_prev)\n",
    "        \n",
    "        return [next_state, logits]\n",
    "    \n",
    "    h_seq, logits_seq = tf.scan(step, elems=tf.transpose(out)[:-1], initializer=[first_state, first_logits])\n",
    "    \n",
    "    logits_seq = tf.concat([first_logits[None], logits_seq], axis = 0)\n",
    "    print (\"inp shape\", inp.shape)\n",
    "    print (\"logits_seq.shape\", logits_seq.shape)\n",
    "    # Make sure you convert logits_seq from [time, batch, voc_size] to [batch, time, voc_size]\n",
    "    logits_seq = tf.transpose(logits_seq, (1, 0, 2))\n",
    "    \n",
    "    print (\"logits_seq.shape\", logits_seq.shape)\n",
    "    \n",
    "    return logits_seq"
   ]
  },
  {
   "cell_type": "code",
   "execution_count": 105,
   "metadata": {
    "collapsed": true,
    "scrolled": true
   },
   "outputs": [],
   "source": [
    "from util_tf import select_values_over_last_axis\n",
    "\n",
    "def compute_loss(model, inp, out, **flags):\n",
    "    mask = infer_mask(out, out_voc.eos_ix)    \n",
    "    logits_seq = compute_logits(model, inp, out, **flags)\n",
    "    soft_max = tf.nn.log_softmax(logits_seq, -1)\n",
    "    symbols = select_values_over_last_axis(soft_max, out)\n",
    "    symbols = symbols*mask\n",
    "    \n",
    "    return -tf.reduce_sum(symbols)/tf.reduce_sum(mask)"
   ]
  },
  {
   "cell_type": "markdown",
   "metadata": {},
   "source": [
    "### Training loop\n",
    "\n",
    "Training encoder-decoder models isn't that different from any other models: sample batches, compute loss, backprop and update"
   ]
  },
  {
   "cell_type": "code",
   "execution_count": 107,
   "metadata": {
    "collapsed": true
   },
   "outputs": [
    {
     "name": "stdout",
     "output_type": "stream",
     "text": [
      "inp shape (?, ?)\n",
      "logits_seq.shape (?, ?, 70)\n",
      "logits_seq.shape (?, ?, 70)\n"
     ]
    }
   ],
   "source": [
    "inp = tf.placeholder('int32', [None, None])\n",
    "out = tf.placeholder('int32', [None, None])\n",
    "\n",
    "loss = compute_loss(model, inp, out)\n",
    "\n",
    "train_step = tf.train.AdamOptimizer().minimize(loss)"
   ]
  },
  {
   "cell_type": "code",
   "execution_count": 109,
   "metadata": {
    "scrolled": false
   },
   "outputs": [],
   "source": [
    "from IPython.display import clear_output\n",
    "from tqdm import tqdm, trange\n",
    "metrics = {'train_loss': []}\n",
    "\n",
    "sess.run(tf.global_variables_initializer())\n",
    "batch_size = 32"
   ]
  },
  {
   "cell_type": "code",
   "execution_count": null,
   "metadata": {},
   "outputs": [],
   "source": [
    "batch_size"
   ]
  },
  {
   "cell_type": "code",
   "execution_count": 110,
   "metadata": {
    "scrolled": true
   },
   "outputs": [
    {
     "data": {
      "image/png": "[encoded data removed]",
      "text/plain": [
       "<Figure size 864x288 with 1 Axes>"
      ]
     },
     "metadata": {
      "needs_background": "light"
     },
     "output_type": "display_data"
    },
    {
     "name": "stdout",
     "output_type": "stream",
     "text": [
      "Mean loss=0.028\n"
     ]
    },
    {
     "name": "stderr",
     "output_type": "stream",
     "text": [
      "100%|██████████| 2500/2500 [05:16<00:00,  7.90it/s]\n"
     ]
    }
   ],
   "source": [
    "for _ in trange(2500):\n",
    "    step = len(metrics['train_loss']) + 1\n",
    "    batch_ix = np.random.randint(len(train_inp), size=batch_size)\n",
    "    feed_dict = {\n",
    "        inp: inp_voc.to_matrix(train_inp[batch_ix]),\n",
    "        out: out_voc.to_matrix(train_out[batch_ix]),\n",
    "    }\n",
    "    \n",
    "    loss_t, _ = sess.run([loss, train_step], feed_dict)\n",
    "    metrics['train_loss'].append((step, loss_t))\n",
    "    \n",
    "    if step % 100 == 0:\n",
    "        \n",
    "        clear_output(True)\n",
    "        plt.figure(figsize=(12,4))\n",
    "        for i, (name, history) in enumerate(sorted(metrics.items())):\n",
    "            plt.subplot(1, len(metrics), i + 1)\n",
    "            plt.title(name)\n",
    "            plt.plot(*zip(*history))\n",
    "            plt.grid()\n",
    "        plt.show()\n",
    "        print(\"Mean loss=%.3f\" % np.mean(metrics['train_loss'][-10:], axis=0)[1], flush=True)\n",
    "        \n",
    "# Note: it's okay if bleu oscillates up and down as long as it gets better on average over long term (e.g. 5k batches)"
   ]
  },
  {
   "cell_type": "markdown",
   "metadata": {},
   "source": [
    "## Посмотрим, что вышло"
   ]
  },
  {
   "cell_type": "code",
   "execution_count": 112,
   "metadata": {},
   "outputs": [
    {
     "name": "stdout",
     "output_type": "stream",
     "text": [
      "inp_line where is c0\n",
      "real query ( lambda $ 0 e ( loc : t c0 $ 0 ) )\n",
      "generated query ( lambda $ 0 e ( loc : t c0 $ 0 ) )\n",
      "\n",
      "inp_line river in s0\n",
      "real query ( lambda $ 0 e ( and ( river : t $ 0 ) ( loc : t $ 0 s0 ) ) )\n",
      "generated query ( population : i c0 )\n",
      "\n",
      "inp_line where are mountain\n",
      "real query ( lambda $ 0 e ( exists $ 1 ( and ( mountain : t $ 1 ) ( loc : t $ 1 $ 0 ) ) ) )\n",
      "generated query ( count $ 0 ( and ( state : t $ 0 ) ( next_to : t s0 $ 0 ) ) )\n",
      "\n",
      "inp_line where is c0\n",
      "real query ( lambda $ 0 e ( loc : t c0 $ 0 ) )\n",
      "generated query ( argmax $ 0 ( and ( city : t $ 0 ) ( loc : t $ 0 s0 ) ) ( size : i $ 0 ) )\n",
      "\n",
      "inp_line what state border s0\n",
      "real query ( lambda $ 0 e ( and ( state : t $ 0 ) ( next_to : t $ 0 s0 ) ) )\n",
      "generated query ( argmax $ 0 ( state : t $ 0 ) ( count $ 1 ( and ( river : t $ 1 ) ( loc : t $ 1 $ 0 ) ) ) )\n",
      "\n",
      "inp_line what state border s0\n",
      "real query ( lambda $ 0 e ( and ( state : t $ 0 ) ( next_to : t $ 0 s0 ) ) )\n",
      "generated query ( argmax $ 0 ( and ( place : t $ 0 ) ( loc : t $ 0 ( argmin $ 1 ( state : t $ 1 ) ( population : i $ 1 ) ) ) ) ( elevation : i $ 0 ) )\n",
      "\n"
     ]
    }
   ],
   "source": [
    "for inp_line, query, generated_query in zip(test_inp[:50], test_out[:50], model.translate_lines(test_inp[::50])[0]):\n",
    "    print(\"inp_line\", inp_line)\n",
    "    print(\"real query\", query)\n",
    "    print(\"generated query\", generated_query)\n",
    "    print()"
   ]
  },
  {
   "cell_type": "code",
   "execution_count": 113,
   "metadata": {},
   "outputs": [],
   "source": [
    "candidate_list = []\n",
    "reference_list = []\n",
    "\n",
    "for inp_line, query, generated_query in zip(test_inp, test_out, model.translate_lines(test_inp)[0]):\n",
    "    candidate_list.append(generated_query)\n",
    "    reference_list.append(query)"
   ]
  },
  {
   "cell_type": "markdown",
   "metadata": {},
   "source": [
    "## Metrcic: accuracy\n",
    "+1 к accuracy, если последовательность символов в запросе полностью совпадает с оригиналом"
   ]
  },
  {
   "cell_type": "code",
   "execution_count": 114,
   "metadata": {},
   "outputs": [],
   "source": [
    "def is_all_same(c1, c2):\n",
    "    if len(c1) == len(c2):\n",
    "        all_same = True\n",
    "        for j in range(len(c1)):\n",
    "            if c1[j] != c2[j]:\n",
    "                all_same = False\n",
    "                break\n",
    "        return all_same\n",
    "    else:\n",
    "        return False\n",
    "\n",
    "\n",
    "def compute_accuracy(candidate_list, reference_list):\n",
    "    if len(candidate_list) != len(reference_list):\n",
    "        print(\"candidate list has length {}, reference list has length {}\\n\".format(len(candidate_list), len(reference_list)))\n",
    "\n",
    "    len_min = min(len(candidate_list), len(reference_list))\n",
    "    c = 0\n",
    "    for i in range(len_min):\n",
    "        #print(candidate_list[i])\n",
    "        #print(reference_list[i])\n",
    "        if is_all_same(candidate_list[i], reference_list[i]):\n",
    "            #print(\"above was all same\")\n",
    "            c = c+1\n",
    "    return c/float(len_min)"
   ]
  },
  {
   "cell_type": "code",
   "execution_count": 115,
   "metadata": {},
   "outputs": [
    {
     "data": {
      "text/plain": [
       "0.5871886120996441"
      ]
     },
     "execution_count": 115,
     "metadata": {},
     "output_type": "execute_result"
    }
   ],
   "source": [
    "compute_accuracy(candidate_list, reference_list)"
   ]
  },
  {
   "cell_type": "markdown",
   "metadata": {},
   "source": [
    "### Attention"
   ]
  },
  {
   "cell_type": "markdown",
   "metadata": {},
   "source": [
    "После работы энкодера есть последовательность его скрытых состояний, каждое из которых относиться к токену входной последовательности $ h^e_0, h^e_1, h^e_2, ..., h^e_T$ \n",
    "Также есть скрытое состояние декодера с прошлого шага $h^d$,\n",
    "\n",
    "* Считаем вот такое\n",
    "$$a_t = linear_{out}(tanh(linear_{e}(h^e_t) + linear_{d}(h_d)))$$\n",
    "* Считаем вес, с которым каждое слово во входной последовательности повлияет на декодер state.\n",
    "$$ p_t = {{e ^ {a_t}} \\over { \\sum_\\tau e^{a_\\tau} }} $$\n",
    "\n",
    "* Добавляем ко внутренему состоянию декодера на предыдущем шаге взвешенную сумму внутренних состояний энкодера.\n",
    "$$ attn = \\sum_t p_t \\cdot h^e_t $$\n",
    "\n",
    "Чуть подробнее тут(https://distill.pub/2016/augmented-rnns/)."
   ]
  },
  {
   "cell_type": "code",
   "execution_count": 116,
   "metadata": {
    "collapsed": true
   },
   "outputs": [],
   "source": [
    "class AttentionLayer:\n",
    "    def __init__(self, name, enc_size, dec_size, hid_size, activ=tf.tanh,):\n",
    "\n",
    "        self.name = name\n",
    "        self.enc_size = enc_size \n",
    "        self.dec_size = dec_size \n",
    "        self.hid_size = hid_size \n",
    "        self.activ = activ       \n",
    "\n",
    "        with tf.variable_scope(name):\n",
    "            \n",
    "            self.linear_enc = L.Dense(hid_size)\n",
    "            self.linear_dec = L.Dense(hid_size)\n",
    "            self.out = L.Dense(1)\n",
    "\n",
    "            # prepare to translate_lines\n",
    "            self.inp = tf.placeholder('int32', [None, None])\n",
    "\n",
    "    def __call__(self, enc, dec, inp_mask):\n",
    "        with tf.variable_scope(self.name):\n",
    "            \n",
    "            \n",
    "            adds = self.linear_enc(enc) + self.linear_dec(dec)[:, None, :]\n",
    "            tanh = tf.tanh(adds)\n",
    "            logits = self.out(adds)[:, :, 0]\n",
    "            print (logits.shape)\n",
    "\n",
    "            \n",
    "           \n",
    "            a = tf.equal(inp_mask, 0.0)\n",
    "            b = logits\n",
    "            c = tf.fill(tf.shape(logits), -1e9)\n",
    "            \n",
    "            logits = tf.where(a, logits, tf.fill(tf.shape(logits), -1e9))\n",
    "            \n",
    "            probs = tf.nn.softmax(logits)\n",
    "            \n",
    "           \n",
    "            attn = tf.reduce_sum(tf.multiply(enc,probs), axis=2)\n",
    "            attn = tf.reduce_sum(probs[:, :, None] * enc, axis=1)\n",
    "            \n",
    "            return attn, probs"
   ]
  },
  {
   "cell_type": "markdown",
   "metadata": {},
   "source": [
    "### Seq2seq с вниманием(attention)\n"
   ]
  },
  {
   "cell_type": "code",
   "execution_count": 117,
   "metadata": {
    "collapsed": true
   },
   "outputs": [],
   "source": [
    "class AttentiveModel(BasicModel):\n",
    "    def __init__(self, name, inp_voc, out_voc,\n",
    "                 emb_size=64, hid_size=128, attn_size=128):\n",
    "        self.name = name\n",
    "        self.inp_voc = inp_voc\n",
    "        self.out_voc = out_voc\n",
    "\n",
    "        with tf.variable_scope(name):\n",
    "            \n",
    "            \n",
    "            self.emb_inp = L.Embedding(len(inp_voc), emb_size)\n",
    "            self.emb_out = L.Embedding(len(out_voc), emb_size)\n",
    "            self.enc0 = tf.nn.rnn_cell.GRUCell(hid_size)\n",
    "            \n",
    "            self.attn_layer = AttentionLayer(\"attn1\", emb_size, emb_size, hid_size)\n",
    "\n",
    "            self.dec_start = L.Dense(hid_size)\n",
    "            self.dec0 = tf.nn.rnn_cell.GRUCell(hid_size)\n",
    "            self.logits = L.Dense(len(out_voc))\n",
    "\n",
    "            self.inp = tf.placeholder('int32', [None, None])\n",
    "            self.initial_state = self.prev_state = self.encode(self.inp)\n",
    "            self.prev_tokens = tf.placeholder('int32', [None])\n",
    "            self.next_state, self.next_logits = self.decode(self.prev_state, self.prev_tokens)\n",
    "        \n",
    "        self.weights = tf.get_collection(tf.GraphKeys.TRAINABLE_VARIABLES, scope=name)\n",
    "        \n",
    "\n",
    "    def encode(self, inp, **flags):\n",
    "        # encode input sequence, create initial decoder states\n",
    "        inp_lengths = infer_length(inp, self.inp_voc.eos_ix)\n",
    "        inp_mask_ = infer_mask(inp, self.inp_voc.eos_ix)\n",
    "        inp_emb = self.emb_inp(inp)\n",
    "        with tf.variable_scope('enc0'):\n",
    "            _, enc_last = tf.nn.dynamic_rnn(\n",
    "                              self.enc0, inp_emb,\n",
    "                              sequence_length=inp_lengths,\n",
    "                              dtype = inp_emb.dtype)\n",
    "        \n",
    "        print (\"enc_last shape \", _.shape)\n",
    "        dec_start = self.dec_start(enc_last)\n",
    "        print (\"enc_last shape \", dec_start.shape)\n",
    "        \n",
    "        #!!! Attention мы добавляем в энкодер. Вот тут вся разница\n",
    "        first_attn, first_attn_probas = self.attn_layer(inp_emb, dec_start, inp_mask_)\n",
    "        \n",
    "        first_state = [dec_start, inp_emb, inp_mask_, first_attn_probas]\n",
    "        return first_state\n",
    "\n",
    "    def decode(self, prev_state, prev_tokens, **flags):\n",
    "       \n",
    "        [dec_start, inp_emb, inp_mask_, first_attn_probas] = prev_state\n",
    "        \n",
    "        \n",
    "        next_attn_response, next_attn_probas = self.attn_layer(inp_emb, dec_start, inp_mask_)\n",
    "        \n",
    "        prev_emb = self.emb_out(prev_tokens[:,None])[:,0]\n",
    "        \n",
    "        print (\"shapes\", prev_emb.shape, next_attn_response.shape)\n",
    "        \n",
    "        with tf.variable_scope('dec0'):\n",
    "            aaa = tf.concat([next_attn_response, prev_emb], axis=-1)\n",
    "            new_dec_out, new_dec_state = self.dec0(aaa, dec_start)\n",
    "        output_logits = self.logits(new_dec_out)\n",
    "\n",
    "        next_state = [new_dec_state, inp_emb, inp_mask_, next_attn_probas]\n",
    "        return next_state, output_logits\n"
   ]
  },
  {
   "cell_type": "code",
   "execution_count": 118,
   "metadata": {},
   "outputs": [
    {
     "name": "stdout",
     "output_type": "stream",
     "text": [
      "enc_last shape  (?, ?, 128)\n",
      "enc_last shape  (?, 128)\n",
      "(?, ?)\n",
      "(?, ?)\n",
      "shapes (?, 64) (?, 64)\n"
     ]
    }
   ],
   "source": [
    "tf.reset_default_graph()\n",
    "sess = tf.InteractiveSession()\n",
    "model = AttentiveModel('model_attn', inp_voc, out_voc)"
   ]
  },
  {
   "cell_type": "markdown",
   "metadata": {},
   "source": [
    "### Training attentive model\n",
    "\n",
    "We'll reuse the infrastructure you've built for the regular model. I hope you didn't hard-code anything :)"
   ]
  },
  {
   "cell_type": "code",
   "execution_count": 119,
   "metadata": {},
   "outputs": [
    {
     "name": "stdout",
     "output_type": "stream",
     "text": [
      "enc_last shape  (?, ?, 128)\n",
      "enc_last shape  (?, 128)\n",
      "(?, ?)\n",
      "(?, ?)\n",
      "shapes (?, 64) (?, 64)\n",
      "inp shape (?, ?)\n",
      "logits_seq.shape (?, ?, 70)\n",
      "logits_seq.shape (?, ?, 70)\n"
     ]
    }
   ],
   "source": [
    "inp = tf.placeholder('int32', [None, None])\n",
    "out = tf.placeholder('int32', [None, None])\n",
    "\n",
    "loss = compute_loss(model, inp, out)\n",
    "train_step = tf.train.AdamOptimizer().minimize(loss)"
   ]
  },
  {
   "cell_type": "code",
   "execution_count": 120,
   "metadata": {
    "collapsed": true
   },
   "outputs": [],
   "source": [
    "metrics = {'train_loss': []}\n",
    "sess.run(tf.global_variables_initializer())\n",
    "batch_size = 32"
   ]
  },
  {
   "cell_type": "code",
   "execution_count": null,
   "metadata": {},
   "outputs": [
    {
     "data": {
      "image/png": "[encoded data removed]",
      "text/plain": [
       "<Figure size 864x288 with 1 Axes>"
      ]
     },
     "metadata": {
      "needs_background": "light"
     },
     "output_type": "display_data"
    },
    {
     "name": "stdout",
     "output_type": "stream",
     "text": [
      "Mean loss=0.097\n"
     ]
    },
    {
     "name": "stderr",
     "output_type": "stream",
     "text": [
      " 59%|█████▊    | 1467/2500 [04:39<03:16,  5.26it/s]"
     ]
    }
   ],
   "source": [
    "for _ in trange(2500):\n",
    "    step = len(metrics['train_loss']) + 1\n",
    "    batch_ix = np.random.randint(len(train_inp), size=batch_size)\n",
    "    feed_dict = {\n",
    "        inp: inp_voc.to_matrix(train_inp[batch_ix]),\n",
    "        out: out_voc.to_matrix(train_out[batch_ix]),\n",
    "    }\n",
    "    \n",
    "    loss_t, _ = sess.run([loss, train_step], feed_dict)\n",
    "    metrics['train_loss'].append((step, loss_t))\n",
    "    \n",
    "    if step % 100 == 0:\n",
    "        \n",
    "        clear_output(True)\n",
    "        plt.figure(figsize=(12,4))\n",
    "        for i, (name, history) in enumerate(sorted(metrics.items())):\n",
    "            plt.subplot(1, len(metrics), i + 1)\n",
    "            plt.title(name)\n",
    "            plt.plot(*zip(*history))\n",
    "            plt.grid()\n",
    "        plt.show()\n",
    "        print(\"Mean loss=%.3f\" % np.mean(metrics['train_loss'][-10:], axis=0)[1], flush=True)\n",
    "        "
   ]
  },
  {
   "cell_type": "markdown",
   "metadata": {},
   "source": [
    "## Посмотрим, что вышло -2"
   ]
  },
  {
   "cell_type": "code",
   "execution_count": 81,
   "metadata": {},
   "outputs": [
    {
     "name": "stdout",
     "output_type": "stream",
     "text": [
      "inp_line where is c0\n",
      "real query ( lambda $ 0 e ( loc : t c0 $ 0 ) )\n",
      "generated query ( lambda $ 0 e ( loc : t c0 $ 0 ) )\n",
      "\n",
      "inp_line river in s0\n",
      "real query ( lambda $ 0 e ( and ( river : t $ 0 ) ( loc : t $ 0 s0 ) ) )\n",
      "generated query ( population : i c0 )\n",
      "\n",
      "inp_line where are mountain\n",
      "real query ( lambda $ 0 e ( exists $ 1 ( and ( mountain : t $ 1 ) ( loc : t $ 1 $ 0 ) ) ) )\n",
      "generated query ( count $ 0 ( and ( state : t $ 0 ) ( next_to : t $ 0 s0 ) ) )\n",
      "\n",
      "inp_line where is c0\n",
      "real query ( lambda $ 0 e ( loc : t c0 $ 0 ) )\n",
      "generated query ( argmax $ 0 ( and ( city : t $ 0 ) ( loc : t $ 0 s0 ) ) ( size : i $ 0 ) )\n",
      "\n",
      "inp_line what state border s0\n",
      "real query ( lambda $ 0 e ( and ( state : t $ 0 ) ( next_to : t $ 0 s0 ) ) )\n",
      "generated query ( argmax $ 0 ( state : t $ 0 ) ( count $ 1 ( and ( state : t $ 1 ) ( loc : t $ 0 $ 1 ) ) ) )\n",
      "\n",
      "inp_line what state border s0\n",
      "real query ( lambda $ 0 e ( and ( state : t $ 0 ) ( next_to : t $ 0 s0 ) ) )\n",
      "generated query ( argmax $ 0 ( and ( place : t $ 0 ) ( loc : t $ 0 ( argmax $ 1 ( state : t $ 1 ) ( population : i $ 1 ) ) ) ) ( elevation : i $ 0 ) )\n",
      "\n"
     ]
    }
   ],
   "source": [
    "for inp_line, query, generated_query in zip(test_inp[:50], test_out[:50], model.translate_lines(test_inp[::50])[0]):\n",
    "    print(\"inp_line\", inp_line)\n",
    "    print(\"real query\", query)\n",
    "    print(\"generated query\", generated_query)\n",
    "    print()"
   ]
  },
  {
   "cell_type": "code",
   "execution_count": 82,
   "metadata": {},
   "outputs": [],
   "source": [
    "candidate_list = []\n",
    "reference_list = []\n",
    "\n",
    "for inp_line, query, generated_query in zip(test_inp, test_out, model.translate_lines(test_inp)[0]):\n",
    "    candidate_list.append(generated_query)\n",
    "    reference_list.append(query)"
   ]
  },
  {
   "cell_type": "code",
   "execution_count": 83,
   "metadata": {},
   "outputs": [
    {
     "data": {
      "text/plain": [
       "0.5836298932384342"
      ]
     },
     "execution_count": 83,
     "metadata": {},
     "output_type": "execute_result"
    }
   ],
   "source": [
    "compute_accuracy(candidate_list, reference_list)"
   ]
  },
  {
   "cell_type": "markdown",
   "metadata": {},
   "source": [
    "чуть лучше"
   ]
  },
  {
   "cell_type": "code",
   "execution_count": null,
   "metadata": {},
   "outputs": [],
   "source": []
  }
 ],
 "metadata": {
  "kernelspec": {
   "display_name": "Python 3",
   "language": "python",
   "name": "python3"
  },
  "language_info": {
   "codemirror_mode": {
    "name": "ipython",
    "version": 3
   },
   "file_extension": ".py",
   "mimetype": "text/x-python",
   "name": "python",
   "nbconvert_exporter": "python",
   "pygments_lexer": "ipython3",
   "version": "3.6.6"
  }
 },
 "nbformat": 4,
 "nbformat_minor": 2
}
